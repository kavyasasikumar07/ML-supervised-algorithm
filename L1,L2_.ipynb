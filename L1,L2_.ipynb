{
  "nbformat": 4,
  "nbformat_minor": 0,
  "metadata": {
    "colab": {
      "provenance": [],
      "authorship_tag": "ABX9TyPOjQW9OiMEjQO3cV+L7Eop",
      "include_colab_link": true
    },
    "kernelspec": {
      "name": "python3",
      "display_name": "Python 3"
    },
    "language_info": {
      "name": "python"
    }
  },
  "cells": [
    {
      "cell_type": "markdown",
      "metadata": {
        "id": "view-in-github",
        "colab_type": "text"
      },
      "source": [
        "<a href=\"https://colab.research.google.com/github/kavyasasikumar07/ML-supervised-algorithm/blob/main/L1%2CL2_.ipynb\" target=\"_parent\"><img src=\"https://colab.research.google.com/assets/colab-badge.svg\" alt=\"Open In Colab\"/></a>"
      ]
    },
    {
      "cell_type": "markdown",
      "source": [
        "(Gradientdescent-error with data transpose the data,optimization algorithm)\n",
        "---\n",
        "\n",
        "\n",
        "If the model overfits,to avoid it,we use regularization.(remove unwanted columns)\n",
        "Ridge and Lasso are regularization technique.\n",
        "L1-Lasso,L2-Ridge.\n",
        "Ridge Regression(circle shape,dow not reach zero,squared value):Performs L2 regularization,i.e,adds penalty equivalently to the square of the magnitudeof coefficients\n",
        "Minimization objective=LS Obj+ alpha *(sum of square of coefficients)\n",
        "(error it adds penalty)  =>formula in note\n",
        "\n",
        "Lasso Regression(diamond shaped,at a specific point may reach zero,Modulus):Performs L1 regression,i.e,adds penalty equivalent to the absolute value of the magnitude of the coefficients.\n",
        "Minimization Objective-LS Obj_alpha*(sum of the absolute value of coefficients)  =>formula in note"
      ],
      "metadata": {
        "id": "FkZIrqxR7Ehr"
      }
    },
    {
      "cell_type": "code",
      "execution_count": null,
      "metadata": {
        "id": "Mr4NALmj6izc"
      },
      "outputs": [],
      "source": [
        "import  numpy as np\n",
        "import matplotlib.pyplot as plt"
      ]
    },
    {
      "cell_type": "code",
      "source": [
        "x=np.array([1,2,3,4,5]) #input\n",
        "y=np.array([2.1,3.8,6.5,9.2,11.3])  #output"
      ],
      "metadata": {
        "id": "qv_75XJv-3SH"
      },
      "execution_count": null,
      "outputs": []
    },
    {
      "cell_type": "code",
      "source": [
        "x_b=np.c_[np.ones((x.shape[0],1)),x]  #dynamix matic created\n",
        "x_b"
      ],
      "metadata": {
        "colab": {
          "base_uri": "https://localhost:8080/"
        },
        "id": "ushXdk0q_GYE",
        "outputId": "340cf6cd-2fab-4dd4-8677-1f7b80ae77b5"
      },
      "execution_count": null,
      "outputs": [
        {
          "output_type": "execute_result",
          "data": {
            "text/plain": [
              "array([[1., 1.],\n",
              "       [1., 2.],\n",
              "       [1., 3.],\n",
              "       [1., 4.],\n",
              "       [1., 5.]])"
            ]
          },
          "metadata": {},
          "execution_count": 6
        }
      ]
    },
    {
      "cell_type": "code",
      "source": [
        "#assign values for Lasso and Ridge\n",
        "alpha_ridge=1.0\n",
        "alpha_lasso=0.1\n",
        "num_iterations=1000\n",
        "learning_rate=0.01"
      ],
      "metadata": {
        "id": "Z0757Fcx_tv_"
      },
      "execution_count": null,
      "outputs": []
    },
    {
      "cell_type": "code",
      "source": [
        "#Lasso function(input,output,iteration,alpha-penalty value)\n",
        "def lasso_regression(x,y,alpha,num_iterations,learning_rate):\n",
        "  m,n=x.shape\n",
        "  theta=np.zeros(n)\n",
        "  for _ in range(num_iterations):\n",
        "    y_pred=x.dot(theta)\n",
        "    gradient=(x.T.dot(y_pred - y)+ alpha * np.sign(theta))/m\n",
        "    theta-=learning_rate*gradient\n",
        "  return theta"
      ],
      "metadata": {
        "id": "9L8gpESBAJBF"
      },
      "execution_count": null,
      "outputs": []
    },
    {
      "cell_type": "code",
      "source": [
        "#Ridge function\n",
        "def ridge_regression(x,y,alpha,num_iterations,learning_rate):\n",
        "  m,n=x.shape\n",
        "  theta=np.zeros(n)\n",
        "  for _ in range(num_iterations):\n",
        "    y_pred=x.dot(theta)\n",
        "    gradient=(x.T.dot(y_pred - y)+ alpha * theta)/m\n",
        "    theta-=learning_rate*gradient\n",
        "  return theta"
      ],
      "metadata": {
        "id": "rM-d2J48Ad-3"
      },
      "execution_count": null,
      "outputs": []
    },
    {
      "cell_type": "code",
      "source": [
        "ta_ridge=ridge_regression(x_b,y,alpha_ridge, num_iterations,learning_rate)\n",
        "ta_lasso=lasso_regression(x_b,y,alpha_ridge, num_iterations,learning_rate)"
      ],
      "metadata": {
        "id": "RRw1ze_eCgFX"
      },
      "execution_count": null,
      "outputs": []
    },
    {
      "cell_type": "code",
      "source": [
        "plt.scatter(x,y,label='Data')\n",
        "plt.plot(x,x_b.dot(ta_ridge),label=f'Ridge(L2) Regression',color='red')\n",
        "plt.plot(x,x_b.dot(ta_lasso),label=f'Lasso(L1) Regression',color='green')\n",
        "plt.xlabel('X')\n",
        "plt.ylabel('Y')\n",
        "plt.legend()\n",
        "plt.show()"
      ],
      "metadata": {
        "colab": {
          "base_uri": "https://localhost:8080/",
          "height": 449
        },
        "id": "jhBU1f3JCRwE",
        "outputId": "9963e86d-0c3d-4124-c719-9eca42ff28da"
      },
      "execution_count": null,
      "outputs": [
        {
          "output_type": "display_data",
          "data": {
            "text/plain": [
              "<Figure size 640x480 with 1 Axes>"
            ],
            "image/png": "[encoded data removed]"
          },
          "metadata": {}
        }
      ]
    },
    {
      "cell_type": "markdown",
      "source": [
        "Linear Regression:\n",
        "\n",
        "Logistic Regression is one of the technique used for classification.\n",
        "to classify 0 or 1\n",
        "(sigmoidal function is there)\n",
        "Classification:binary classification(yes or bo(0 or 1)),Multiclass classification(more than 2)\n",
        "Sigmoid or Logit:\n",
        "sigmoid(z)=1/(1+e power(-z)) ,e=Euler's number ~2.71828\n",
        "Linear Regression:mx+b\\linear regression is transformed to swiffle(sigmoid)\n",
        "y=1/(1+e^-(mx+b))\n",
        "Logistic Regression:\n",
        "log(Y/1-Y)=C+B1X1+B2X2+....\n",
        "Y is the dependent variable which is the probability of occurance\n",
        "X1,X2,... are the independent variables that help in predicting\n",
        "p(0)=0\n",
        "p(1)=1-p(0)\n",
        "Logistic Function-Sigmoid function(range 0 to 1)\n",
        "f(x)=1/1e^-beta*X\n",
        "Log Loss:1/N Summations(i=1 to N)-(yi*log(gaama(cap)i)+(1-yi)*log(1=y(cap)i)\n",
        "\n"
      ],
      "metadata": {
        "id": "ox_GUvFkLnLF"
      }
    },
    {
      "cell_type": "code",
      "source": [],
      "metadata": {
        "id": "cQS7hY7RLlLY"
      },
      "execution_count": null,
      "outputs": []
    },
    {
      "cell_type": "code",
      "source": [],
      "metadata": {
        "id": "DsxaLA9iEr7K"
      },
      "execution_count": null,
      "outputs": []
    }
  ]
}
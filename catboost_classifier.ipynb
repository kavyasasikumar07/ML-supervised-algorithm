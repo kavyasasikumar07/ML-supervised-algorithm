{
  "nbformat": 4,
  "nbformat_minor": 0,
  "metadata": {
    "colab": {
      "provenance": [],
      "authorship_tag": "ABX9TyOOEPPDqzbJen+THZJ5F6yy",
      "include_colab_link": true
    },
    "kernelspec": {
      "name": "python3",
      "display_name": "Python 3"
    },
    "language_info": {
      "name": "python"
    }
  },
  "cells": [
    {
      "cell_type": "markdown",
      "metadata": {
        "id": "view-in-github",
        "colab_type": "text"
      },
      "source": [
        "<a href=\"https://colab.research.google.com/github/kavyasasikumar07/ML-supervised-algorithm/blob/main/catboost_classifier.ipynb\" target=\"_parent\"><img src=\"https://colab.research.google.com/assets/colab-badge.svg\" alt=\"Open In Colab\"/></a>"
      ]
    },
    {
      "cell_type": "code",
      "execution_count": null,
      "metadata": {
        "id": "NoE1bpwnn-ur"
      },
      "outputs": [],
      "source": [
        "import numpy as np\n",
        "import pandas as pd"
      ]
    },
    {
      "cell_type": "code",
      "source": [
        "test=pd.read_csv(\"https://raw.githubusercontent.com/ezioauditore-tech/AI/main/datasets/amazon-employee-access-challenge/test.csv\")\n",
        "train=pd.read_csv(\"https://raw.githubusercontent.com/ezioauditore-tech/AI/main/datasets/amazon-employee-access-challenge/train.csv\")\n"
      ],
      "metadata": {
        "id": "Q1Z1W0juo2FZ"
      },
      "execution_count": null,
      "outputs": []
    },
    {
      "cell_type": "code",
      "source": [
        "test.shape"
      ],
      "metadata": {
        "colab": {
          "base_uri": "https://localhost:8080/"
        },
        "id": "LCRUfgpMpTtU",
        "outputId": "e38d9e78-ac49-4be1-e1b1-2552ff46e0c7"
      },
      "execution_count": null,
      "outputs": [
        {
          "output_type": "execute_result",
          "data": {
            "text/plain": [
              "(58921, 10)"
            ]
          },
          "metadata": {},
          "execution_count": 4
        }
      ]
    },
    {
      "cell_type": "code",
      "source": [
        "train.shape"
      ],
      "metadata": {
        "colab": {
          "base_uri": "https://localhost:8080/"
        },
        "id": "ubDMyUwqpW5S",
        "outputId": "8a9b2418-6fcd-4a48-82de-27a853640414"
      },
      "execution_count": null,
      "outputs": [
        {
          "output_type": "execute_result",
          "data": {
            "text/plain": [
              "(32769, 10)"
            ]
          },
          "metadata": {},
          "execution_count": 5
        }
      ]
    },
    {
      "cell_type": "code",
      "source": [
        "train.isnull().sum()\n"
      ],
      "metadata": {
        "colab": {
          "base_uri": "https://localhost:8080/"
        },
        "id": "jgJsh__3pbeB",
        "outputId": "fa929049-4b9f-4bdd-edb6-a7bd3ed1e0f6"
      },
      "execution_count": null,
      "outputs": [
        {
          "output_type": "execute_result",
          "data": {
            "text/plain": [
              "ACTION              0\n",
              "RESOURCE            0\n",
              "MGR_ID              0\n",
              "ROLE_ROLLUP_1       0\n",
              "ROLE_ROLLUP_2       0\n",
              "ROLE_DEPTNAME       0\n",
              "ROLE_TITLE          0\n",
              "ROLE_FAMILY_DESC    0\n",
              "ROLE_FAMILY         0\n",
              "ROLE_CODE           0\n",
              "dtype: int64"
            ]
          },
          "metadata": {},
          "execution_count": 6
        }
      ]
    },
    {
      "cell_type": "code",
      "source": [
        "pip install catboost\n"
      ],
      "metadata": {
        "colab": {
          "base_uri": "https://localhost:8080/"
        },
        "id": "cSsVi-bbs4IN",
        "outputId": "14aa2173-9532-4031-9af8-02eb0db8b736"
      },
      "execution_count": null,
      "outputs": [
        {
          "output_type": "stream",
          "name": "stdout",
          "text": [
            "Collecting catboost\n",
            "  Downloading catboost-1.2.2-cp310-cp310-manylinux2014_x86_64.whl (98.7 MB)\n",
            "\u001b[2K     \u001b[90m━━━━━━━━━━━━━━━━━━━━━━━━━━━━━━━━━━━━━━━━\u001b[0m \u001b[32m98.7/98.7 MB\u001b[0m \u001b[31m4.2 MB/s\u001b[0m eta \u001b[36m0:00:00\u001b[0m\n",
            "\u001b[?25hRequirement already satisfied: graphviz in /usr/local/lib/python3.10/dist-packages (from catboost) (0.20.1)\n",
            "Requirement already satisfied: matplotlib in /usr/local/lib/python3.10/dist-packages (from catboost) (3.7.1)\n",
            "Requirement already satisfied: numpy>=1.16.0 in /usr/local/lib/python3.10/dist-packages (from catboost) (1.23.5)\n",
            "Requirement already satisfied: pandas>=0.24 in /usr/local/lib/python3.10/dist-packages (from catboost) (1.5.3)\n",
            "Requirement already satisfied: scipy in /usr/local/lib/python3.10/dist-packages (from catboost) (1.11.4)\n",
            "Requirement already satisfied: plotly in /usr/local/lib/python3.10/dist-packages (from catboost) (5.15.0)\n",
            "Requirement already satisfied: six in /usr/local/lib/python3.10/dist-packages (from catboost) (1.16.0)\n",
            "Requirement already satisfied: python-dateutil>=2.8.1 in /usr/local/lib/python3.10/dist-packages (from pandas>=0.24->catboost) (2.8.2)\n",
            "Requirement already satisfied: pytz>=2020.1 in /usr/local/lib/python3.10/dist-packages (from pandas>=0.24->catboost) (2023.3.post1)\n",
            "Requirement already satisfied: contourpy>=1.0.1 in /usr/local/lib/python3.10/dist-packages (from matplotlib->catboost) (1.2.0)\n",
            "Requirement already satisfied: cycler>=0.10 in /usr/local/lib/python3.10/dist-packages (from matplotlib->catboost) (0.12.1)\n",
            "Requirement already satisfied: fonttools>=4.22.0 in /usr/local/lib/python3.10/dist-packages (from matplotlib->catboost) (4.46.0)\n",
            "Requirement already satisfied: kiwisolver>=1.0.1 in /usr/local/lib/python3.10/dist-packages (from matplotlib->catboost) (1.4.5)\n",
            "Requirement already satisfied: packaging>=20.0 in /usr/local/lib/python3.10/dist-packages (from matplotlib->catboost) (23.2)\n",
            "Requirement already satisfied: pillow>=6.2.0 in /usr/local/lib/python3.10/dist-packages (from matplotlib->catboost) (9.4.0)\n",
            "Requirement already satisfied: pyparsing>=2.3.1 in /usr/local/lib/python3.10/dist-packages (from matplotlib->catboost) (3.1.1)\n",
            "Requirement already satisfied: tenacity>=6.2.0 in /usr/local/lib/python3.10/dist-packages (from plotly->catboost) (8.2.3)\n",
            "Installing collected packages: catboost\n",
            "Successfully installed catboost-1.2.2\n"
          ]
        }
      ]
    },
    {
      "cell_type": "code",
      "source": [
        "train.head()"
      ],
      "metadata": {
        "colab": {
          "base_uri": "https://localhost:8080/",
          "height": 206
        },
        "id": "L7rCMR45tnip",
        "outputId": "9b262d3e-1e69-4ac7-9718-ed91833c3ce8"
      },
      "execution_count": null,
      "outputs": [
        {
          "output_type": "execute_result",
          "data": {
            "text/plain": [
              "   ACTION  RESOURCE  MGR_ID  ROLE_ROLLUP_1  ROLE_ROLLUP_2  ROLE_DEPTNAME  \\\n",
              "0       1     39353   85475         117961         118300         123472   \n",
              "1       1     17183    1540         117961         118343         123125   \n",
              "2       1     36724   14457         118219         118220         117884   \n",
              "3       1     36135    5396         117961         118343         119993   \n",
              "4       1     42680    5905         117929         117930         119569   \n",
              "\n",
              "   ROLE_TITLE  ROLE_FAMILY_DESC  ROLE_FAMILY  ROLE_CODE  \n",
              "0      117905            117906       290919     117908  \n",
              "1      118536            118536       308574     118539  \n",
              "2      117879            267952        19721     117880  \n",
              "3      118321            240983       290919     118322  \n",
              "4      119323            123932        19793     119325  "
            ],
            "text/html": [
              "\n",
              "  <div id=\"df-b28c3bed-3ee8-4518-9a69-63919a5048a1\" class=\"colab-df-container\">\n",
              "    <div>\n",
              "<style scoped>\n",
              "    .dataframe tbody tr th:only-of-type {\n",
              "        vertical-align: middle;\n",
              "    }\n",
              "\n",
              "    .dataframe tbody tr th {\n",
              "        vertical-align: top;\n",
              "    }\n",
              "\n",
              "    .dataframe thead th {\n",
              "        text-align: right;\n",
              "    }\n",
              "</style>\n",
              "<table border=\"1\" class=\"dataframe\">\n",
              "  <thead>\n",
              "    <tr style=\"text-align: right;\">\n",
              "      <th></th>\n",
              "      <th>ACTION</th>\n",
              "      <th>RESOURCE</th>\n",
              "      <th>MGR_ID</th>\n",
              "      <th>ROLE_ROLLUP_1</th>\n",
              "      <th>ROLE_ROLLUP_2</th>\n",
              "      <th>ROLE_DEPTNAME</th>\n",
              "      <th>ROLE_TITLE</th>\n",
              "      <th>ROLE_FAMILY_DESC</th>\n",
              "      <th>ROLE_FAMILY</th>\n",
              "      <th>ROLE_CODE</th>\n",
              "    </tr>\n",
              "  </thead>\n",
              "  <tbody>\n",
              "    <tr>\n",
              "      <th>0</th>\n",
              "      <td>1</td>\n",
              "      <td>39353</td>\n",
              "      <td>85475</td>\n",
              "      <td>117961</td>\n",
              "      <td>118300</td>\n",
              "      <td>123472</td>\n",
              "      <td>117905</td>\n",
              "      <td>117906</td>\n",
              "      <td>290919</td>\n",
              "      <td>117908</td>\n",
              "    </tr>\n",
              "    <tr>\n",
              "      <th>1</th>\n",
              "      <td>1</td>\n",
              "      <td>17183</td>\n",
              "      <td>1540</td>\n",
              "      <td>117961</td>\n",
              "      <td>118343</td>\n",
              "      <td>123125</td>\n",
              "      <td>118536</td>\n",
              "      <td>118536</td>\n",
              "      <td>308574</td>\n",
              "      <td>118539</td>\n",
              "    </tr>\n",
              "    <tr>\n",
              "      <th>2</th>\n",
              "      <td>1</td>\n",
              "      <td>36724</td>\n",
              "      <td>14457</td>\n",
              "      <td>118219</td>\n",
              "      <td>118220</td>\n",
              "      <td>117884</td>\n",
              "      <td>117879</td>\n",
              "      <td>267952</td>\n",
              "      <td>19721</td>\n",
              "      <td>117880</td>\n",
              "    </tr>\n",
              "    <tr>\n",
              "      <th>3</th>\n",
              "      <td>1</td>\n",
              "      <td>36135</td>\n",
              "      <td>5396</td>\n",
              "      <td>117961</td>\n",
              "      <td>118343</td>\n",
              "      <td>119993</td>\n",
              "      <td>118321</td>\n",
              "      <td>240983</td>\n",
              "      <td>290919</td>\n",
              "      <td>118322</td>\n",
              "    </tr>\n",
              "    <tr>\n",
              "      <th>4</th>\n",
              "      <td>1</td>\n",
              "      <td>42680</td>\n",
              "      <td>5905</td>\n",
              "      <td>117929</td>\n",
              "      <td>117930</td>\n",
              "      <td>119569</td>\n",
              "      <td>119323</td>\n",
              "      <td>123932</td>\n",
              "      <td>19793</td>\n",
              "      <td>119325</td>\n",
              "    </tr>\n",
              "  </tbody>\n",
              "</table>\n",
              "</div>\n",
              "    <div class=\"colab-df-buttons\">\n",
              "\n",
              "  <div class=\"colab-df-container\">\n",
              "    <button class=\"colab-df-convert\" onclick=\"convertToInteractive('df-b28c3bed-3ee8-4518-9a69-63919a5048a1')\"\n",
              "            title=\"Convert this dataframe to an interactive table.\"\n",
              "            style=\"display:none;\">\n",
              "\n",
              "  <svg xmlns=\"http://www.w3.org/2000/svg\" height=\"24px\" viewBox=\"0 -960 960 960\">\n",
              "    <path d=\"M120-120v-720h720v720H120Zm60-500h600v-160H180v160Zm220 220h160v-160H400v160Zm0 220h160v-160H400v160ZM180-400h160v-160H180v160Zm440 0h160v-160H620v160ZM180-180h160v-160H180v160Zm440 0h160v-160H620v160Z\"/>\n",
              "  </svg>\n",
              "    </button>\n",
              "\n",
              "  <style>\n",
              "    .colab-df-container {\n",
              "      display:flex;\n",
              "      gap: 12px;\n",
              "    }\n",
              "\n",
              "    .colab-df-convert {\n",
              "      background-color: #E8F0FE;\n",
              "      border: none;\n",
              "      border-radius: 50%;\n",
              "      cursor: pointer;\n",
              "      display: none;\n",
              "      fill: #1967D2;\n",
              "      height: 32px;\n",
              "      padding: 0 0 0 0;\n",
              "      width: 32px;\n",
              "    }\n",
              "\n",
              "    .colab-df-convert:hover {\n",
              "      background-color: #E2EBFA;\n",
              "      box-shadow: 0px 1px 2px rgba(60, 64, 67, 0.3), 0px 1px 3px 1px rgba(60, 64, 67, 0.15);\n",
              "      fill: #174EA6;\n",
              "    }\n",
              "\n",
              "    .colab-df-buttons div {\n",
              "      margin-bottom: 4px;\n",
              "    }\n",
              "\n",
              "    [theme=dark] .colab-df-convert {\n",
              "      background-color: #3B4455;\n",
              "      fill: #D2E3FC;\n",
              "    }\n",
              "\n",
              "    [theme=dark] .colab-df-convert:hover {\n",
              "      background-color: #434B5C;\n",
              "      box-shadow: 0px 1px 3px 1px rgba(0, 0, 0, 0.15);\n",
              "      filter: drop-shadow(0px 1px 2px rgba(0, 0, 0, 0.3));\n",
              "      fill: #FFFFFF;\n",
              "    }\n",
              "  </style>\n",
              "\n",
              "    <script>\n",
              "      const buttonEl =\n",
              "        document.querySelector('#df-b28c3bed-3ee8-4518-9a69-63919a5048a1 button.colab-df-convert');\n",
              "      buttonEl.style.display =\n",
              "        google.colab.kernel.accessAllowed ? 'block' : 'none';\n",
              "\n",
              "      async function convertToInteractive(key) {\n",
              "        const element = document.querySelector('#df-b28c3bed-3ee8-4518-9a69-63919a5048a1');\n",
              "        const dataTable =\n",
              "          await google.colab.kernel.invokeFunction('convertToInteractive',\n",
              "                                                    [key], {});\n",
              "        if (!dataTable) return;\n",
              "\n",
              "        const docLinkHtml = 'Like what you see? Visit the ' +\n",
              "          '<a target=\"_blank\" href=https://colab.research.google.com/notebooks/data_table.ipynb>data table notebook</a>'\n",
              "          + ' to learn more about interactive tables.';\n",
              "        element.innerHTML = '';\n",
              "        dataTable['output_type'] = 'display_data';\n",
              "        await google.colab.output.renderOutput(dataTable, element);\n",
              "        const docLink = document.createElement('div');\n",
              "        docLink.innerHTML = docLinkHtml;\n",
              "        element.appendChild(docLink);\n",
              "      }\n",
              "    </script>\n",
              "  </div>\n",
              "\n",
              "\n",
              "<div id=\"df-3eb5f4ca-abed-46e4-8491-43cb9209d5b1\">\n",
              "  <button class=\"colab-df-quickchart\" onclick=\"quickchart('df-3eb5f4ca-abed-46e4-8491-43cb9209d5b1')\"\n",
              "            title=\"Suggest charts\"\n",
              "            style=\"display:none;\">\n",
              "\n",
              "<svg xmlns=\"http://www.w3.org/2000/svg\" height=\"24px\"viewBox=\"0 0 24 24\"\n",
              "     width=\"24px\">\n",
              "    <g>\n",
              "        <path d=\"M19 3H5c-1.1 0-2 .9-2 2v14c0 1.1.9 2 2 2h14c1.1 0 2-.9 2-2V5c0-1.1-.9-2-2-2zM9 17H7v-7h2v7zm4 0h-2V7h2v10zm4 0h-2v-4h2v4z\"/>\n",
              "    </g>\n",
              "</svg>\n",
              "  </button>\n",
              "\n",
              "<style>\n",
              "  .colab-df-quickchart {\n",
              "      --bg-color: #E8F0FE;\n",
              "      --fill-color: #1967D2;\n",
              "      --hover-bg-color: #E2EBFA;\n",
              "      --hover-fill-color: #174EA6;\n",
              "      --disabled-fill-color: #AAA;\n",
              "      --disabled-bg-color: #DDD;\n",
              "  }\n",
              "\n",
              "  [theme=dark] .colab-df-quickchart {\n",
              "      --bg-color: #3B4455;\n",
              "      --fill-color: #D2E3FC;\n",
              "      --hover-bg-color: #434B5C;\n",
              "      --hover-fill-color: #FFFFFF;\n",
              "      --disabled-bg-color: #3B4455;\n",
              "      --disabled-fill-color: #666;\n",
              "  }\n",
              "\n",
              "  .colab-df-quickchart {\n",
              "    background-color: var(--bg-color);\n",
              "    border: none;\n",
              "    border-radius: 50%;\n",
              "    cursor: pointer;\n",
              "    display: none;\n",
              "    fill: var(--fill-color);\n",
              "    height: 32px;\n",
              "    padding: 0;\n",
              "    width: 32px;\n",
              "  }\n",
              "\n",
              "  .colab-df-quickchart:hover {\n",
              "    background-color: var(--hover-bg-color);\n",
              "    box-shadow: 0 1px 2px rgba(60, 64, 67, 0.3), 0 1px 3px 1px rgba(60, 64, 67, 0.15);\n",
              "    fill: var(--button-hover-fill-color);\n",
              "  }\n",
              "\n",
              "  .colab-df-quickchart-complete:disabled,\n",
              "  .colab-df-quickchart-complete:disabled:hover {\n",
              "    background-color: var(--disabled-bg-color);\n",
              "    fill: var(--disabled-fill-color);\n",
              "    box-shadow: none;\n",
              "  }\n",
              "\n",
              "  .colab-df-spinner {\n",
              "    border: 2px solid var(--fill-color);\n",
              "    border-color: transparent;\n",
              "    border-bottom-color: var(--fill-color);\n",
              "    animation:\n",
              "      spin 1s steps(1) infinite;\n",
              "  }\n",
              "\n",
              "  @keyframes spin {\n",
              "    0% {\n",
              "      border-color: transparent;\n",
              "      border-bottom-color: var(--fill-color);\n",
              "      border-left-color: var(--fill-color);\n",
              "    }\n",
              "    20% {\n",
              "      border-color: transparent;\n",
              "      border-left-color: var(--fill-color);\n",
              "      border-top-color: var(--fill-color);\n",
              "    }\n",
              "    30% {\n",
              "      border-color: transparent;\n",
              "      border-left-color: var(--fill-color);\n",
              "      border-top-color: var(--fill-color);\n",
              "      border-right-color: var(--fill-color);\n",
              "    }\n",
              "    40% {\n",
              "      border-color: transparent;\n",
              "      border-right-color: var(--fill-color);\n",
              "      border-top-color: var(--fill-color);\n",
              "    }\n",
              "    60% {\n",
              "      border-color: transparent;\n",
              "      border-right-color: var(--fill-color);\n",
              "    }\n",
              "    80% {\n",
              "      border-color: transparent;\n",
              "      border-right-color: var(--fill-color);\n",
              "      border-bottom-color: var(--fill-color);\n",
              "    }\n",
              "    90% {\n",
              "      border-color: transparent;\n",
              "      border-bottom-color: var(--fill-color);\n",
              "    }\n",
              "  }\n",
              "</style>\n",
              "\n",
              "  <script>\n",
              "    async function quickchart(key) {\n",
              "      const quickchartButtonEl =\n",
              "        document.querySelector('#' + key + ' button');\n",
              "      quickchartButtonEl.disabled = true;  // To prevent multiple clicks.\n",
              "      quickchartButtonEl.classList.add('colab-df-spinner');\n",
              "      try {\n",
              "        const charts = await google.colab.kernel.invokeFunction(\n",
              "            'suggestCharts', [key], {});\n",
              "      } catch (error) {\n",
              "        console.error('Error during call to suggestCharts:', error);\n",
              "      }\n",
              "      quickchartButtonEl.classList.remove('colab-df-spinner');\n",
              "      quickchartButtonEl.classList.add('colab-df-quickchart-complete');\n",
              "    }\n",
              "    (() => {\n",
              "      let quickchartButtonEl =\n",
              "        document.querySelector('#df-3eb5f4ca-abed-46e4-8491-43cb9209d5b1 button');\n",
              "      quickchartButtonEl.style.display =\n",
              "        google.colab.kernel.accessAllowed ? 'block' : 'none';\n",
              "    })();\n",
              "  </script>\n",
              "</div>\n",
              "    </div>\n",
              "  </div>\n"
            ]
          },
          "metadata": {},
          "execution_count": 12
        }
      ]
    },
    {
      "cell_type": "code",
      "source": [
        "from catboost import CatBoostClassifier\n",
        "\n"
      ],
      "metadata": {
        "id": "JiDXUxnly960"
      },
      "execution_count": null,
      "outputs": []
    },
    {
      "cell_type": "code",
      "source": [
        "train=pd.read_csv(\"https://raw.githubusercontent.com/ezioauditore-tech/AI/main/datasets/amazon-employee-access-challenge/train.csv\")\n",
        "\n"
      ],
      "metadata": {
        "id": "0OUSCfrJzCeI"
      },
      "execution_count": null,
      "outputs": []
    },
    {
      "cell_type": "code",
      "source": [
        "import pandas as pd\n",
        "from sklearn.model_selection import train_test_split\n",
        "from catboost import CatBoostClassifier\n",
        "from sklearn.metrics import accuracy_score\n"
      ],
      "metadata": {
        "id": "M_STHOq9zXY2"
      },
      "execution_count": null,
      "outputs": []
    },
    {
      "cell_type": "code",
      "source": [
        "X = train.drop('ACTION', axis=1)\n",
        "y = train['ACTION']"
      ],
      "metadata": {
        "id": "_3L0OrNjzYv-"
      },
      "execution_count": null,
      "outputs": []
    },
    {
      "cell_type": "code",
      "source": [
        "X_train, X_test, y_train, y_test = train_test_split(X, y, test_size=0.2, random_state=42)\n"
      ],
      "metadata": {
        "id": "9_WehAduzdJ1"
      },
      "execution_count": null,
      "outputs": []
    },
    {
      "cell_type": "code",
      "source": [
        "model = CatBoostClassifier(iterations=100, depth=10, learning_rate=0.05, loss_function='Logloss')"
      ],
      "metadata": {
        "id": "q3NbsP7bzioF"
      },
      "execution_count": null,
      "outputs": []
    },
    {
      "cell_type": "code",
      "source": [
        "model.fit(X_train, y_train, cat_features=['RESOURCE', 'MGR_ID', 'ROLE_ROLLUP_1', 'ROLE_ROLLUP_2', 'ROLE_DEPTNAME', 'ROLE_TITLE', 'ROLE_FAMILY_DESC', 'ROLE_FAMILY', 'ROLE_CODE'])\n"
      ],
      "metadata": {
        "colab": {
          "base_uri": "https://localhost:8080/"
        },
        "id": "_dam64rZzoZU",
        "outputId": "23b58c3d-da34-4bd1-cc1b-d63e30006435"
      },
      "execution_count": null,
      "outputs": [
        {
          "output_type": "stream",
          "name": "stdout",
          "text": [
            "0:\tlearn: 0.6550954\ttotal: 16.7ms\tremaining: 1.65s\n",
            "1:\tlearn: 0.6207630\ttotal: 37.9ms\tremaining: 1.86s\n",
            "2:\tlearn: 0.5895497\ttotal: 45.7ms\tremaining: 1.48s\n",
            "3:\tlearn: 0.5612373\ttotal: 70.7ms\tremaining: 1.7s\n",
            "4:\tlearn: 0.5352128\ttotal: 87ms\tremaining: 1.65s\n",
            "5:\tlearn: 0.5113541\ttotal: 98.2ms\tremaining: 1.54s\n",
            "6:\tlearn: 0.4894549\ttotal: 108ms\tremaining: 1.43s\n",
            "7:\tlearn: 0.4694157\ttotal: 122ms\tremaining: 1.41s\n",
            "8:\tlearn: 0.4509305\ttotal: 150ms\tremaining: 1.51s\n",
            "9:\tlearn: 0.4338927\ttotal: 158ms\tremaining: 1.42s\n",
            "10:\tlearn: 0.4180190\ttotal: 167ms\tremaining: 1.35s\n",
            "11:\tlearn: 0.4033630\ttotal: 178ms\tremaining: 1.31s\n",
            "12:\tlearn: 0.3899196\ttotal: 183ms\tremaining: 1.23s\n",
            "13:\tlearn: 0.3773884\ttotal: 210ms\tremaining: 1.29s\n",
            "14:\tlearn: 0.3658683\ttotal: 219ms\tremaining: 1.24s\n",
            "15:\tlearn: 0.3551471\ttotal: 230ms\tremaining: 1.21s\n",
            "16:\tlearn: 0.3451989\ttotal: 236ms\tremaining: 1.15s\n",
            "17:\tlearn: 0.3360327\ttotal: 245ms\tremaining: 1.12s\n",
            "18:\tlearn: 0.3273464\ttotal: 252ms\tremaining: 1.07s\n",
            "19:\tlearn: 0.3194355\ttotal: 256ms\tremaining: 1.02s\n",
            "20:\tlearn: 0.3119832\ttotal: 276ms\tremaining: 1.04s\n",
            "21:\tlearn: 0.3051057\ttotal: 303ms\tremaining: 1.07s\n",
            "22:\tlearn: 0.2987700\ttotal: 310ms\tremaining: 1.04s\n",
            "23:\tlearn: 0.2927991\ttotal: 320ms\tremaining: 1.01s\n",
            "24:\tlearn: 0.2872494\ttotal: 328ms\tremaining: 983ms\n",
            "25:\tlearn: 0.2815329\ttotal: 355ms\tremaining: 1.01s\n",
            "26:\tlearn: 0.2765247\ttotal: 362ms\tremaining: 978ms\n",
            "27:\tlearn: 0.2712758\ttotal: 392ms\tremaining: 1.01s\n",
            "28:\tlearn: 0.2663835\ttotal: 420ms\tremaining: 1.03s\n",
            "29:\tlearn: 0.2618242\ttotal: 453ms\tremaining: 1.06s\n",
            "30:\tlearn: 0.2575233\ttotal: 471ms\tremaining: 1.05s\n",
            "31:\tlearn: 0.2539491\ttotal: 480ms\tremaining: 1.02s\n",
            "32:\tlearn: 0.2504333\ttotal: 491ms\tremaining: 997ms\n",
            "33:\tlearn: 0.2470676\ttotal: 502ms\tremaining: 974ms\n",
            "34:\tlearn: 0.2438311\ttotal: 517ms\tremaining: 961ms\n",
            "35:\tlearn: 0.2407575\ttotal: 533ms\tremaining: 947ms\n",
            "36:\tlearn: 0.2378743\ttotal: 561ms\tremaining: 955ms\n",
            "37:\tlearn: 0.2342031\ttotal: 588ms\tremaining: 959ms\n",
            "38:\tlearn: 0.2308904\ttotal: 597ms\tremaining: 934ms\n",
            "39:\tlearn: 0.2276592\ttotal: 605ms\tremaining: 908ms\n",
            "40:\tlearn: 0.2247245\ttotal: 635ms\tremaining: 914ms\n",
            "41:\tlearn: 0.2218071\ttotal: 663ms\tremaining: 915ms\n",
            "42:\tlearn: 0.2191252\ttotal: 691ms\tremaining: 916ms\n",
            "43:\tlearn: 0.2167065\ttotal: 718ms\tremaining: 914ms\n",
            "44:\tlearn: 0.2143305\ttotal: 746ms\tremaining: 912ms\n",
            "45:\tlearn: 0.2120152\ttotal: 763ms\tremaining: 896ms\n",
            "46:\tlearn: 0.2099580\ttotal: 791ms\tremaining: 892ms\n",
            "47:\tlearn: 0.2080726\ttotal: 819ms\tremaining: 887ms\n",
            "48:\tlearn: 0.2062501\ttotal: 851ms\tremaining: 886ms\n",
            "49:\tlearn: 0.2045512\ttotal: 879ms\tremaining: 879ms\n",
            "50:\tlearn: 0.2029326\ttotal: 896ms\tremaining: 861ms\n",
            "51:\tlearn: 0.2014863\ttotal: 926ms\tremaining: 855ms\n",
            "52:\tlearn: 0.2001505\ttotal: 955ms\tremaining: 847ms\n",
            "53:\tlearn: 0.1987625\ttotal: 983ms\tremaining: 838ms\n",
            "54:\tlearn: 0.1975588\ttotal: 1.01s\tremaining: 827ms\n",
            "55:\tlearn: 0.1963614\ttotal: 1.04s\tremaining: 816ms\n",
            "56:\tlearn: 0.1953335\ttotal: 1.07s\tremaining: 807ms\n",
            "57:\tlearn: 0.1943332\ttotal: 1.1s\tremaining: 795ms\n",
            "58:\tlearn: 0.1932237\ttotal: 1.13s\tremaining: 784ms\n",
            "59:\tlearn: 0.1920331\ttotal: 1.16s\tremaining: 776ms\n",
            "60:\tlearn: 0.1910150\ttotal: 1.19s\tremaining: 762ms\n",
            "61:\tlearn: 0.1900293\ttotal: 1.22s\tremaining: 747ms\n",
            "62:\tlearn: 0.1890766\ttotal: 1.25s\tremaining: 732ms\n",
            "63:\tlearn: 0.1881103\ttotal: 1.28s\tremaining: 718ms\n",
            "64:\tlearn: 0.1872379\ttotal: 1.32s\tremaining: 711ms\n",
            "65:\tlearn: 0.1863311\ttotal: 1.35s\tremaining: 694ms\n",
            "66:\tlearn: 0.1854045\ttotal: 1.38s\tremaining: 678ms\n",
            "67:\tlearn: 0.1847348\ttotal: 1.4s\tremaining: 661ms\n",
            "68:\tlearn: 0.1841049\ttotal: 1.44s\tremaining: 645ms\n",
            "69:\tlearn: 0.1835124\ttotal: 1.46s\tremaining: 627ms\n",
            "70:\tlearn: 0.1827601\ttotal: 1.49s\tremaining: 611ms\n",
            "71:\tlearn: 0.1822037\ttotal: 1.52s\tremaining: 592ms\n",
            "72:\tlearn: 0.1816074\ttotal: 1.55s\tremaining: 573ms\n",
            "73:\tlearn: 0.1810181\ttotal: 1.58s\tremaining: 554ms\n",
            "74:\tlearn: 0.1804592\ttotal: 1.6s\tremaining: 535ms\n",
            "75:\tlearn: 0.1799836\ttotal: 1.63s\tremaining: 516ms\n",
            "76:\tlearn: 0.1795144\ttotal: 1.66s\tremaining: 497ms\n",
            "77:\tlearn: 0.1790458\ttotal: 1.69s\tremaining: 477ms\n",
            "78:\tlearn: 0.1785057\ttotal: 1.73s\tremaining: 460ms\n",
            "79:\tlearn: 0.1778767\ttotal: 1.76s\tremaining: 440ms\n",
            "80:\tlearn: 0.1773841\ttotal: 1.79s\tremaining: 419ms\n",
            "81:\tlearn: 0.1767374\ttotal: 1.81s\tremaining: 398ms\n",
            "82:\tlearn: 0.1763294\ttotal: 1.84s\tremaining: 378ms\n",
            "83:\tlearn: 0.1758338\ttotal: 1.87s\tremaining: 357ms\n",
            "84:\tlearn: 0.1753477\ttotal: 1.9s\tremaining: 336ms\n",
            "85:\tlearn: 0.1749149\ttotal: 1.93s\tremaining: 315ms\n",
            "86:\tlearn: 0.1745837\ttotal: 1.96s\tremaining: 293ms\n",
            "87:\tlearn: 0.1742513\ttotal: 1.99s\tremaining: 271ms\n",
            "88:\tlearn: 0.1738711\ttotal: 2.02s\tremaining: 250ms\n",
            "89:\tlearn: 0.1735728\ttotal: 2.05s\tremaining: 227ms\n",
            "90:\tlearn: 0.1731246\ttotal: 2.07s\tremaining: 205ms\n",
            "91:\tlearn: 0.1728088\ttotal: 2.1s\tremaining: 183ms\n",
            "92:\tlearn: 0.1725140\ttotal: 2.13s\tremaining: 161ms\n",
            "93:\tlearn: 0.1722740\ttotal: 2.16s\tremaining: 138ms\n",
            "94:\tlearn: 0.1719063\ttotal: 2.19s\tremaining: 115ms\n",
            "95:\tlearn: 0.1715603\ttotal: 2.22s\tremaining: 92.5ms\n",
            "96:\tlearn: 0.1712777\ttotal: 2.25s\tremaining: 69.5ms\n",
            "97:\tlearn: 0.1711116\ttotal: 2.27s\tremaining: 46.4ms\n",
            "98:\tlearn: 0.1708603\ttotal: 2.3s\tremaining: 23.3ms\n",
            "99:\tlearn: 0.1706429\ttotal: 2.35s\tremaining: 0us\n"
          ]
        },
        {
          "output_type": "execute_result",
          "data": {
            "text/plain": [
              "<catboost.core.CatBoostClassifier at 0x7cce6d8ec580>"
            ]
          },
          "metadata": {},
          "execution_count": 26
        }
      ]
    },
    {
      "cell_type": "code",
      "source": [
        "predictions = model.predict(X_test)"
      ],
      "metadata": {
        "id": "XlGt3RSBzuZY"
      },
      "execution_count": null,
      "outputs": []
    },
    {
      "cell_type": "code",
      "source": [
        "accuracy = accuracy_score(y_test, predictions)\n",
        "print(f\"Accuracy: {accuracy:.4f}\")"
      ],
      "metadata": {
        "colab": {
          "base_uri": "https://localhost:8080/"
        },
        "id": "TKfUf52bzyLJ",
        "outputId": "37fc8d57-2d5d-41fa-c386-0239e054fe7c"
      },
      "execution_count": null,
      "outputs": [
        {
          "output_type": "stream",
          "name": "stdout",
          "text": [
            "Accuracy: 0.9461\n"
          ]
        }
      ]
    },
    {
      "cell_type": "code",
      "source": [],
      "metadata": {
        "id": "TV_M1xBi1VhW"
      },
      "execution_count": null,
      "outputs": []
    }
  ]
}